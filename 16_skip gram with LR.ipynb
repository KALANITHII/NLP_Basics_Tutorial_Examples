{
 "cells": [
  {
   "cell_type": "markdown",
   "metadata": {},
   "source": [
    "\"Skip-gram Word Embeddings with Logistic Regression Classifier\"\n",
    "\n",
    "This notebook implements the Skip-gram model to train word embeddings, capturing the likelihood of words occurring nearby in a given text dataset. A logistic regression classifier is then employed to compute the probability of word pairs co-occurring. The program utilizes a custom dataset for training, showcasing the practical application of Skip-gram for creating meaningful word representations and the subsequent use of logistic regression for probabilistic analysis of word associations."
   ]
  },
  {
   "cell_type": "code",
   "execution_count": 113,
   "metadata": {},
   "outputs": [],
   "source": [
    "import gensim\n",
    "import numpy as np\n",
    "from sklearn.linear_model import LogisticRegression"
   ]
  },
  {
   "cell_type": "code",
   "execution_count": 135,
   "metadata": {},
   "outputs": [],
   "source": [
    "with open(\"american_psycho.txt\", \"r\") as f:\n",
    "    text = f.read()\n",
    "\n",
    "sentences = text.split(\"\\n\")\n",
    "text_data = []\n",
    "for sentence in sentences:\n",
    "    text_data.append(sentence.lower().split())"
   ]
  },
  {
   "cell_type": "code",
   "execution_count": 140,
   "metadata": {},
   "outputs": [],
   "source": [
    "model = gensim.models.Word2Vec(text_data, sg=1, window=5, vector_size=100, min_count=3, workers=-1)"
   ]
  },
  {
   "cell_type": "code",
   "execution_count": 151,
   "metadata": {},
   "outputs": [],
   "source": [
    "def word_similarity(word1, word2):\n",
    "    try:\n",
    "        vec1 = model.wv[word1]\n",
    "        vec2 = model.wv[word2]\n",
    "        similarity = np.dot(vec1, vec2) / (np.linalg.norm(vec1) * np.linalg.norm(vec2))\n",
    "        return similarity\n",
    "    except:\n",
    "        return np.random.rand()"
   ]
  },
  {
   "cell_type": "code",
   "execution_count": 152,
   "metadata": {},
   "outputs": [],
   "source": [
    "X_train = []\n",
    "y_train = []\n",
    "for i in range(len(text_data) - 1):\n",
    "    for j in range(i + 1, min(i + 6, len(text_data))):\n",
    "        if text_data[i] != text_data[j]:\n",
    "            X_train.append([word_similarity(text_data[i], text_data[j])])\n",
    "            y_train.append(1 if j - i <= 3 else 0)"
   ]
  },
  {
   "cell_type": "code",
   "execution_count": 157,
   "metadata": {},
   "outputs": [],
   "source": [
    "clf = LogisticRegression(random_state=0).fit(X_train, y_train)"
   ]
  },
  {
   "cell_type": "code",
   "execution_count": 158,
   "metadata": {},
   "outputs": [],
   "source": [
    "def predict_probability(word1, word2):\n",
    "    similarity = word_similarity(word1, word2)\n",
    "    return clf.predict_proba([[similarity]])[0][1]"
   ]
  },
  {
   "cell_type": "code",
   "execution_count": 159,
   "metadata": {},
   "outputs": [
    {
     "data": {
      "text/plain": [
       "0.607632571881666"
      ]
     },
     "execution_count": 159,
     "metadata": {},
     "output_type": "execute_result"
    }
   ],
   "source": [
    "predict_probability(\"american\",\"psycho\")"
   ]
  },
  {
   "cell_type": "code",
   "execution_count": 161,
   "metadata": {},
   "outputs": [
    {
     "data": {
      "text/plain": [
       "0.6063473052704731"
      ]
     },
     "execution_count": 161,
     "metadata": {},
     "output_type": "execute_result"
    }
   ],
   "source": [
    "predict_probability(\"life\",\"play\")"
   ]
  }
 ],
 "metadata": {
  "kernelspec": {
   "display_name": "base",
   "language": "python",
   "name": "python3"
  },
  "language_info": {
   "codemirror_mode": {
    "name": "ipython",
    "version": 3
   },
   "file_extension": ".py",
   "mimetype": "text/x-python",
   "name": "python",
   "nbconvert_exporter": "python",
   "pygments_lexer": "ipython3",
   "version": "3.9.15"
  },
  "orig_nbformat": 4
 },
 "nbformat": 4,
 "nbformat_minor": 2
}
