{
 "cells": [
  {
   "cell_type": "markdown",
   "metadata": {},
   "source": [
    "\"Next-Token Prediction with simple LSTM Using Custom Dataset\"\n",
    "\n",
    "This notebook focuses on building a predictive model using LSTM to anticipate the next token in a sequence. The implementation employs a custom dataset for training and evaluation. The recurrent nature of the neural network enables capturing contextual dependencies within the data, making it suitable for tasks such as language modeling and sequence prediction."
   ]
  },
  {
   "cell_type": "code",
   "execution_count": 1,
   "metadata": {},
   "outputs": [],
   "source": [
    "import numpy as np\n",
    "from keras.models import Sequential\n",
    "from keras.layers import LSTM, Dense"
   ]
  },
  {
   "cell_type": "code",
   "execution_count": 2,
   "metadata": {},
   "outputs": [
    {
     "name": "stdout",
     "output_type": "stream",
     "text": [
      "Number of sequences: 38\n"
     ]
    }
   ],
   "source": [
    "text = \"The quick brown fox jumps over the lazy dog\"\n",
    "maxlen = 5\n",
    "step = 1\n",
    "sentences = []\n",
    "next_words = []\n",
    "for i in range(0, len(text) - maxlen, step):\n",
    "    sentences.append(text[i:i + maxlen])\n",
    "    next_words.append(text[i + maxlen])\n",
    "print('Number of sequences:', len(sentences))"
   ]
  },
  {
   "cell_type": "code",
   "execution_count": 4,
   "metadata": {},
   "outputs": [],
   "source": [
    "# Create a mapping between characters and their corresponding numerical values\n",
    "chars = sorted(list(set(text)))\n",
    "char_indices = dict((c, i) for i, c in enumerate(chars))"
   ]
  },
  {
   "cell_type": "code",
   "execution_count": 5,
   "metadata": {},
   "outputs": [
    {
     "name": "stderr",
     "output_type": "stream",
     "text": [
      "C:\\Users\\Legion\\AppData\\Local\\Temp\\ipykernel_12456\\318468118.py:2: DeprecationWarning: `np.bool` is a deprecated alias for the builtin `bool`. To silence this warning, use `bool` by itself. Doing this will not modify any behavior and is safe. If you specifically wanted the numpy scalar type, use `np.bool_` here.\n",
      "Deprecated in NumPy 1.20; for more details and guidance: https://numpy.org/devdocs/release/1.20.0-notes.html#deprecations\n",
      "  x = np.zeros((len(sentences), maxlen, len(chars)), dtype=np.bool)\n",
      "C:\\Users\\Legion\\AppData\\Local\\Temp\\ipykernel_12456\\318468118.py:3: DeprecationWarning: `np.bool` is a deprecated alias for the builtin `bool`. To silence this warning, use `bool` by itself. Doing this will not modify any behavior and is safe. If you specifically wanted the numpy scalar type, use `np.bool_` here.\n",
      "Deprecated in NumPy 1.20; for more details and guidance: https://numpy.org/devdocs/release/1.20.0-notes.html#deprecations\n",
      "  y = np.zeros((len(sentences), len(chars)), dtype=np.bool)\n"
     ]
    }
   ],
   "source": [
    "# Vectorize the data\n",
    "x = np.zeros((len(sentences), maxlen, len(chars)), dtype=np.bool)\n",
    "y = np.zeros((len(sentences), len(chars)), dtype=np.bool)\n",
    "for i, sentence in enumerate(sentences):\n",
    "    for t, char in enumerate(sentence):\n",
    "        x[i, t, char_indices[char]] = 1\n",
    "    y[i, char_indices[next_words[i]]] = 1"
   ]
  },
  {
   "cell_type": "code",
   "execution_count": 6,
   "metadata": {},
   "outputs": [],
   "source": [
    "# Define the model\n",
    "model = Sequential()\n",
    "model.add(LSTM(128, input_shape=(maxlen, len(chars))))\n",
    "model.add(Dense(len(chars), activation='softmax'))\n",
    "model.compile(loss='categorical_crossentropy', optimizer='adam')"
   ]
  },
  {
   "cell_type": "code",
   "execution_count": 7,
   "metadata": {},
   "outputs": [
    {
     "name": "stdout",
     "output_type": "stream",
     "text": [
      "Epoch 1/100\n",
      "1/1 [==============================] - 5s 5s/step - loss: 3.3280\n",
      "Epoch 2/100\n",
      "1/1 [==============================] - 0s 17ms/step - loss: 3.3179\n",
      "Epoch 3/100\n",
      "1/1 [==============================] - 0s 11ms/step - loss: 3.3076\n",
      "Epoch 4/100\n",
      "1/1 [==============================] - 0s 17ms/step - loss: 3.2974\n",
      "Epoch 5/100\n",
      "1/1 [==============================] - 0s 14ms/step - loss: 3.2870\n",
      "Epoch 6/100\n",
      "1/1 [==============================] - 0s 16ms/step - loss: 3.2764\n",
      "Epoch 7/100\n",
      "1/1 [==============================] - 0s 16ms/step - loss: 3.2656\n",
      "Epoch 8/100\n",
      "1/1 [==============================] - 0s 8ms/step - loss: 3.2546\n",
      "Epoch 9/100\n",
      "1/1 [==============================] - 0s 8ms/step - loss: 3.2432\n",
      "Epoch 10/100\n",
      "1/1 [==============================] - 0s 16ms/step - loss: 3.2314\n",
      "Epoch 11/100\n",
      "1/1 [==============================] - 0s 8ms/step - loss: 3.2192\n",
      "Epoch 12/100\n",
      "1/1 [==============================] - 0s 16ms/step - loss: 3.2063\n",
      "Epoch 13/100\n",
      "1/1 [==============================] - 0s 16ms/step - loss: 3.1928\n",
      "Epoch 14/100\n",
      "1/1 [==============================] - 0s 16ms/step - loss: 3.1785\n",
      "Epoch 15/100\n",
      "1/1 [==============================] - 0s 16ms/step - loss: 3.1634\n",
      "Epoch 16/100\n",
      "1/1 [==============================] - 0s 8ms/step - loss: 3.1472\n",
      "Epoch 17/100\n",
      "1/1 [==============================] - 0s 8ms/step - loss: 3.1299\n",
      "Epoch 18/100\n",
      "1/1 [==============================] - 0s 7ms/step - loss: 3.1113\n",
      "Epoch 19/100\n",
      "1/1 [==============================] - 0s 8ms/step - loss: 3.0912\n",
      "Epoch 20/100\n",
      "1/1 [==============================] - 0s 16ms/step - loss: 3.0696\n",
      "Epoch 21/100\n",
      "1/1 [==============================] - 0s 16ms/step - loss: 3.0464\n",
      "Epoch 22/100\n",
      "1/1 [==============================] - 0s 16ms/step - loss: 3.0215\n",
      "Epoch 23/100\n",
      "1/1 [==============================] - 0s 8ms/step - loss: 2.9951\n",
      "Epoch 24/100\n",
      "1/1 [==============================] - 0s 8ms/step - loss: 2.9675\n",
      "Epoch 25/100\n",
      "1/1 [==============================] - 0s 8ms/step - loss: 2.9396\n",
      "Epoch 26/100\n",
      "1/1 [==============================] - 0s 16ms/step - loss: 2.9127\n",
      "Epoch 27/100\n",
      "1/1 [==============================] - 0s 8ms/step - loss: 2.8890\n",
      "Epoch 28/100\n",
      "1/1 [==============================] - 0s 8ms/step - loss: 2.8710\n",
      "Epoch 29/100\n",
      "1/1 [==============================] - 0s 8ms/step - loss: 2.8605\n",
      "Epoch 30/100\n",
      "1/1 [==============================] - 0s 16ms/step - loss: 2.8549\n",
      "Epoch 31/100\n",
      "1/1 [==============================] - 0s 16ms/step - loss: 2.8480\n",
      "Epoch 32/100\n",
      "1/1 [==============================] - 0s 8ms/step - loss: 2.8342\n",
      "Epoch 33/100\n",
      "1/1 [==============================] - 0s 8ms/step - loss: 2.8133\n",
      "Epoch 34/100\n",
      "1/1 [==============================] - 0s 8ms/step - loss: 2.7881\n",
      "Epoch 35/100\n",
      "1/1 [==============================] - 0s 16ms/step - loss: 2.7625\n",
      "Epoch 36/100\n",
      "1/1 [==============================] - 0s 8ms/step - loss: 2.7387\n",
      "Epoch 37/100\n",
      "1/1 [==============================] - 0s 8ms/step - loss: 2.7173\n",
      "Epoch 38/100\n",
      "1/1 [==============================] - 0s 8ms/step - loss: 2.6976\n",
      "Epoch 39/100\n",
      "1/1 [==============================] - 0s 16ms/step - loss: 2.6782\n",
      "Epoch 40/100\n",
      "1/1 [==============================] - 0s 8ms/step - loss: 2.6580\n",
      "Epoch 41/100\n",
      "1/1 [==============================] - 0s 8ms/step - loss: 2.6360\n",
      "Epoch 42/100\n",
      "1/1 [==============================] - 0s 8ms/step - loss: 2.6115\n",
      "Epoch 43/100\n",
      "1/1 [==============================] - 0s 16ms/step - loss: 2.5843\n",
      "Epoch 44/100\n",
      "1/1 [==============================] - 0s 8ms/step - loss: 2.5544\n",
      "Epoch 45/100\n",
      "1/1 [==============================] - 0s 8ms/step - loss: 2.5224\n",
      "Epoch 46/100\n",
      "1/1 [==============================] - 0s 8ms/step - loss: 2.4886\n",
      "Epoch 47/100\n",
      "1/1 [==============================] - 0s 8ms/step - loss: 2.4538\n",
      "Epoch 48/100\n",
      "1/1 [==============================] - 0s 29ms/step - loss: 2.4184\n",
      "Epoch 49/100\n",
      "1/1 [==============================] - 0s 57ms/step - loss: 2.3820\n",
      "Epoch 50/100\n",
      "1/1 [==============================] - 0s 8ms/step - loss: 2.3440\n",
      "Epoch 51/100\n",
      "1/1 [==============================] - 0s 16ms/step - loss: 2.3033\n",
      "Epoch 52/100\n",
      "1/1 [==============================] - 0s 24ms/step - loss: 2.2591\n",
      "Epoch 53/100\n",
      "1/1 [==============================] - 0s 8ms/step - loss: 2.2115\n",
      "Epoch 54/100\n",
      "1/1 [==============================] - 0s 16ms/step - loss: 2.1613\n",
      "Epoch 55/100\n",
      "1/1 [==============================] - 0s 8ms/step - loss: 2.1091\n",
      "Epoch 56/100\n",
      "1/1 [==============================] - 0s 8ms/step - loss: 2.0555\n",
      "Epoch 57/100\n",
      "1/1 [==============================] - 0s 8ms/step - loss: 2.0001\n",
      "Epoch 58/100\n",
      "1/1 [==============================] - 0s 16ms/step - loss: 1.9426\n",
      "Epoch 59/100\n",
      "1/1 [==============================] - 0s 8ms/step - loss: 1.8825\n",
      "Epoch 60/100\n",
      "1/1 [==============================] - 0s 8ms/step - loss: 1.8197\n",
      "Epoch 61/100\n",
      "1/1 [==============================] - 0s 8ms/step - loss: 1.7547\n",
      "Epoch 62/100\n",
      "1/1 [==============================] - 0s 16ms/step - loss: 1.6879\n",
      "Epoch 63/100\n",
      "1/1 [==============================] - 0s 15ms/step - loss: 1.6199\n",
      "Epoch 64/100\n",
      "1/1 [==============================] - 0s 11ms/step - loss: 1.5511\n",
      "Epoch 65/100\n",
      "1/1 [==============================] - 0s 12ms/step - loss: 1.4816\n",
      "Epoch 66/100\n",
      "1/1 [==============================] - 0s 8ms/step - loss: 1.4113\n",
      "Epoch 67/100\n",
      "1/1 [==============================] - 0s 16ms/step - loss: 1.3405\n",
      "Epoch 68/100\n",
      "1/1 [==============================] - 0s 8ms/step - loss: 1.2699\n",
      "Epoch 69/100\n",
      "1/1 [==============================] - 0s 8ms/step - loss: 1.1998\n",
      "Epoch 70/100\n",
      "1/1 [==============================] - 0s 16ms/step - loss: 1.1306\n",
      "Epoch 71/100\n",
      "1/1 [==============================] - 0s 8ms/step - loss: 1.0622\n",
      "Epoch 72/100\n",
      "1/1 [==============================] - 0s 8ms/step - loss: 0.9946\n",
      "Epoch 73/100\n",
      "1/1 [==============================] - 0s 8ms/step - loss: 0.9285\n",
      "Epoch 74/100\n",
      "1/1 [==============================] - 0s 8ms/step - loss: 0.8646\n",
      "Epoch 75/100\n",
      "1/1 [==============================] - 0s 8ms/step - loss: 0.8038\n",
      "Epoch 76/100\n",
      "1/1 [==============================] - 0s 16ms/step - loss: 0.7463\n",
      "Epoch 77/100\n",
      "1/1 [==============================] - 0s 16ms/step - loss: 0.6920\n",
      "Epoch 78/100\n",
      "1/1 [==============================] - 0s 8ms/step - loss: 0.6408\n",
      "Epoch 79/100\n",
      "1/1 [==============================] - 0s 8ms/step - loss: 0.5928\n",
      "Epoch 80/100\n",
      "1/1 [==============================] - 0s 8ms/step - loss: 0.5478\n",
      "Epoch 81/100\n",
      "1/1 [==============================] - 0s 64ms/step - loss: 0.5055\n",
      "Epoch 82/100\n",
      "1/1 [==============================] - 0s 24ms/step - loss: 0.4658\n",
      "Epoch 83/100\n",
      "1/1 [==============================] - 0s 32ms/step - loss: 0.4288\n",
      "Epoch 84/100\n",
      "1/1 [==============================] - 0s 13ms/step - loss: 0.3945\n",
      "Epoch 85/100\n",
      "1/1 [==============================] - 0s 13ms/step - loss: 0.3626\n",
      "Epoch 86/100\n",
      "1/1 [==============================] - 0s 11ms/step - loss: 0.3329\n",
      "Epoch 87/100\n",
      "1/1 [==============================] - 0s 8ms/step - loss: 0.3052\n",
      "Epoch 88/100\n",
      "1/1 [==============================] - 0s 8ms/step - loss: 0.2796\n",
      "Epoch 89/100\n",
      "1/1 [==============================] - 0s 16ms/step - loss: 0.2560\n",
      "Epoch 90/100\n",
      "1/1 [==============================] - 0s 8ms/step - loss: 0.2344\n",
      "Epoch 91/100\n",
      "1/1 [==============================] - 0s 8ms/step - loss: 0.2145\n",
      "Epoch 92/100\n",
      "1/1 [==============================] - 0s 8ms/step - loss: 0.1964\n",
      "Epoch 93/100\n",
      "1/1 [==============================] - 0s 16ms/step - loss: 0.1799\n",
      "Epoch 94/100\n",
      "1/1 [==============================] - 0s 16ms/step - loss: 0.1648\n",
      "Epoch 95/100\n",
      "1/1 [==============================] - 0s 8ms/step - loss: 0.1511\n",
      "Epoch 96/100\n",
      "1/1 [==============================] - 0s 8ms/step - loss: 0.1386\n",
      "Epoch 97/100\n",
      "1/1 [==============================] - 0s 16ms/step - loss: 0.1273\n",
      "Epoch 98/100\n",
      "1/1 [==============================] - 0s 8ms/step - loss: 0.1170\n",
      "Epoch 99/100\n",
      "1/1 [==============================] - 0s 16ms/step - loss: 0.1076\n",
      "Epoch 100/100\n",
      "1/1 [==============================] - 0s 8ms/step - loss: 0.0991\n"
     ]
    },
    {
     "data": {
      "text/plain": [
       "<keras.callbacks.History at 0x2044b3c1b50>"
      ]
     },
     "execution_count": 7,
     "metadata": {},
     "output_type": "execute_result"
    }
   ],
   "source": [
    "# Train the model\n",
    "model.fit(x, y, batch_size=128, epochs=100)"
   ]
  },
  {
   "cell_type": "code",
   "execution_count": 12,
   "metadata": {},
   "outputs": [
    {
     "name": "stdout",
     "output_type": "stream",
     "text": [
      "The quick brown fox jumps over the lazy doggjo    jjjpss  errn ef\n"
     ]
    }
   ],
   "source": [
    "# Use the model to generate text\n",
    "generated_text = 'The quick brown'\n",
    "for i in range(50):\n",
    "    x_pred = np.zeros((1, maxlen, len(chars)))\n",
    "    for t, char in enumerate(generated_text[-maxlen:]):\n",
    "        x_pred[0, t, char_indices[char]] = 1\n",
    "    preds = model.predict(x_pred, verbose=0)[0]\n",
    "    next_index = np.argmax(preds)\n",
    "    next_char = chars[next_index]\n",
    "    generated_text += next_char\n",
    "print(generated_text)"
   ]
  }
 ],
 "metadata": {
  "kernelspec": {
   "display_name": "base",
   "language": "python",
   "name": "python3"
  },
  "language_info": {
   "codemirror_mode": {
    "name": "ipython",
    "version": 3
   },
   "file_extension": ".py",
   "mimetype": "text/x-python",
   "name": "python",
   "nbconvert_exporter": "python",
   "pygments_lexer": "ipython3",
   "version": "3.9.15"
  },
  "orig_nbformat": 4
 },
 "nbformat": 4,
 "nbformat_minor": 2
}
