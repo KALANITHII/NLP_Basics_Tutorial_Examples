{
  "cells": [
    {
      "cell_type": "markdown",
      "metadata": {},
      "source": [
        "\"Text Summarization with Gensim\"\n",
        "\n",
        "The implementation includes techniques such as extracting key sentences or phrases, identifying important topics, and generating coherent summaries, offering a valuable resource for those interested in automatic text summarization using Gensim."
      ]
    },
    {
      "cell_type": "code",
      "execution_count": null,
      "metadata": {
        "colab": {
          "base_uri": "https://localhost:8080/"
        },
        "id": "sH4-uKGn-T4H",
        "outputId": "d07bc1fe-060b-4609-f884-a3f2824fba25"
      },
      "outputs": [
        {
          "name": "stdout",
          "output_type": "stream",
          "text": [
            "Looking in indexes: https://pypi.org/simple, https://us-python.pkg.dev/colab-wheels/public/simple/\n",
            "Collecting gensim==3.8.3\n",
            "  Downloading gensim-3.8.3.tar.gz (23.4 MB)\n",
            "\u001b[2K     \u001b[90m━━━━━━━━━━━━━━━━━━━━━━━━━━━━━━━━━━━━━━━━\u001b[0m \u001b[32m23.4/23.4 MB\u001b[0m \u001b[31m18.9 MB/s\u001b[0m eta \u001b[36m0:00:00\u001b[0m\n",
            "\u001b[?25h  Preparing metadata (setup.py) ... \u001b[?25l\u001b[?25hdone\n",
            "Requirement already satisfied: numpy>=1.11.3 in /usr/local/lib/python3.9/dist-packages (from gensim==3.8.3) (1.22.4)\n",
            "Requirement already satisfied: scipy>=0.18.1 in /usr/local/lib/python3.9/dist-packages (from gensim==3.8.3) (1.10.1)\n",
            "Requirement already satisfied: six>=1.5.0 in /usr/local/lib/python3.9/dist-packages (from gensim==3.8.3) (1.16.0)\n",
            "Requirement already satisfied: smart_open>=1.8.1 in /usr/local/lib/python3.9/dist-packages (from gensim==3.8.3) (6.3.0)\n",
            "Building wheels for collected packages: gensim\n",
            "  Building wheel for gensim (setup.py) ... \u001b[?25l\u001b[?25hdone\n",
            "  Created wheel for gensim: filename=gensim-3.8.3-cp39-cp39-linux_x86_64.whl size=26528018 sha256=b0edc8fae0cfcbfcbc2f07f32d1a2d012f005bf0709174b3600174a8c5d24723\n",
            "  Stored in directory: /root/.cache/pip/wheels/ca/5d/af/618594ec2f28608c1d6ee7d2b7e95a3e9b06551e3b80a491d6\n",
            "Successfully built gensim\n",
            "Installing collected packages: gensim\n",
            "  Attempting uninstall: gensim\n",
            "    Found existing installation: gensim 4.3.1\n",
            "    Uninstalling gensim-4.3.1:\n",
            "      Successfully uninstalled gensim-4.3.1\n",
            "Successfully installed gensim-3.8.3\n"
          ]
        }
      ],
      "source": [
        "!pip install gensim==3.8.3"
      ]
    },
    {
      "cell_type": "code",
      "execution_count": null,
      "metadata": {
        "colab": {
          "base_uri": "https://localhost:8080/"
        },
        "id": "4auD2IJK9Tp7",
        "outputId": "4a1ca490-09bd-46ce-b29a-a90ab7911018"
      },
      "outputs": [
        {
          "name": "stdout",
          "output_type": "stream",
          "text": [
            "Machine learning is a field of computer science that uses statistical techniques to give computer systems the ability to \"learn\" (i.e., progressively improve performance on a specific task) with data, without being explicitly programmed.\n",
            "The study of mathematical optimization delivers methods, theory and application domains to the field of machine learning.\n"
          ]
        }
      ],
      "source": [
        "from gensim.summarization import summarize\n",
        "\n",
        "# Define the input dataset\n",
        "text = \"\"\"\n",
        "Machine learning is a field of computer science that uses statistical techniques to give computer systems the ability to \"learn\" (i.e., progressively improve performance on a specific task) with data, without being explicitly programmed.\n",
        "The name machine learning was coined in 1959 by Arthur Samuel.\n",
        "Machine learning explores the study and construction of algorithms that can learn from and make predictions on data.\n",
        "Such algorithms operate by building a model from example inputs to make data-driven predictions or decisions, rather than following strictly static program instructions.\n",
        "Machine learning is closely related to computational statistics, which focuses on making predictions using computers.\n",
        "The study of mathematical optimization delivers methods, theory and application domains to the field of machine learning.\n",
        "Data mining is a related field of study, focusing on exploratory data analysis through unsupervised learning.\n",
        "In its application across business problems, machine learning is also referred to as predictive analytics.\n",
        "The main categories of machine learning are supervised learning, unsupervised learning, semi-supervised learning, and reinforcement learning.\n",
        "Machine learning approaches can be divided into two main types: symbolic (or rule-based) and sub-symbolic (or connectionist).\n",
        "Symbolic methods handle intelligence as a search problem, using a search tree to traverse the space of possible solutions.\n",
        "Sub-symbolic methods, in contrast, use distributed representations and non-linear transformations of the input data to model complex relationships between inputs and outputs.\n",
        "Machine learning is employed in a range of computing tasks where designing and programming explicit algorithms with good performance is difficult or infeasible.\n",
        "Examples of applications include email filtering, detection of network intruders or malicious insiders working towards a data breach, optical character recognition (OCR), learning to rank and computer vision.\n",
        "\"\"\"\n",
        "\n",
        "# Summarize the text using the ratio argument\n",
        "summary = summarize(text, ratio=0.2)\n",
        "\n",
        "# Print the summarized text\n",
        "print(summary)"
      ]
    },
    {
      "cell_type": "code",
      "execution_count": null,
      "metadata": {
        "id": "erA04LTH97Ys"
      },
      "outputs": [],
      "source": []
    }
  ],
  "metadata": {
    "colab": {
      "provenance": []
    },
    "kernelspec": {
      "display_name": "Python 3",
      "name": "python3"
    },
    "language_info": {
      "name": "python"
    }
  },
  "nbformat": 4,
  "nbformat_minor": 0
}
