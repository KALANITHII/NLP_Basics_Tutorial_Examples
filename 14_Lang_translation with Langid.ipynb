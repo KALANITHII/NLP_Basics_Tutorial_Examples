{
 "cells": [
  {
   "cell_type": "markdown",
   "metadata": {},
   "source": [
    "\"Language Detection and Translation: Detecting and Translating Text\"\n",
    "\n",
    "This notebook demonstrates the process of language detection using the provided text, \"mwanafunzi wa Taasisi ya Teknolojia ya Coimbatore,\" and subsequently translates it to English."
   ]
  },
  {
   "cell_type": "code",
   "execution_count": 1,
   "metadata": {},
   "outputs": [
    {
     "name": "stdout",
     "output_type": "stream",
     "text": [
      "The text is in sw and the translated text is: the Coimbatore Institute of Technology\n"
     ]
    }
   ],
   "source": [
    "import langid\n",
    "from translate import Translator\n",
    "\n",
    "# Input text\n",
    "text = \"mwanafunzi wa Taasisi ya Teknolojia ya Coimbatore\"\n",
    "\n",
    "# Identify the language\n",
    "language, confidence = langid.classify(text)\n",
    "\n",
    "translator = Translator(from_lang = language,to_lang = \"en\")\n",
    "text = translator.translate(text)\n",
    "\n",
    "print(f\"The text is in {language} and the translated text is: {text}\")"
   ]
  },
  {
   "cell_type": "code",
   "execution_count": null,
   "metadata": {},
   "outputs": [],
   "source": []
  }
 ],
 "metadata": {
  "kernelspec": {
   "display_name": "base",
   "language": "python",
   "name": "python3"
  },
  "language_info": {
   "codemirror_mode": {
    "name": "ipython",
    "version": 3
   },
   "file_extension": ".py",
   "mimetype": "text/x-python",
   "name": "python",
   "nbconvert_exporter": "python",
   "pygments_lexer": "ipython3",
   "version": "3.10.10"
  },
  "orig_nbformat": 4,
  "vscode": {
   "interpreter": {
    "hash": "526741b084ed4f25519e824e7aa0ab7ce2f19623805d4b36812ace3275ecfd4c"
   }
  }
 },
 "nbformat": 4,
 "nbformat_minor": 2
}
