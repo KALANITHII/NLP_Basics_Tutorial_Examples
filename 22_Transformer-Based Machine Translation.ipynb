{
  "cells": [
    {
      "cell_type": "markdown",
      "metadata": {},
      "source": [
        "\"Explore the implementation of machine translation using cutting-edge transformer models in this notebook. Learn how transformers, such as BERT or T5, revolutionize translation tasks, providing superior performance and context-aware language translation.\""
      ]
    },
    {
      "cell_type": "markdown",
      "metadata": {},
      "source": [
        "A transformer is a neural network architecture introduced in the \"Attention is All You Need\" paper, designed for sequence-to-sequence tasks, such as machine translation. It employs self-attention mechanisms to capture contextual relationships in input sequences, enabling parallelized training and achieving state-of-the-art performance in various natural language processing tasks."
      ]
    },
    {
      "cell_type": "code",
      "execution_count": 2,
      "metadata": {
        "colab": {
          "base_uri": "https://localhost:8080/"
        },
        "id": "0Nnrr4BoCE2Q",
        "outputId": "2ab9b561-b2b4-4603-d736-87edbf47fef6"
      },
      "outputs": [],
      "source": [
        "!pip install --upgrade pip\n",
        "!pip install transformers\n",
        "!pip install sentencepiece"
      ]
    },
    {
      "cell_type": "code",
      "execution_count": 3,
      "metadata": {
        "id": "XfThBhDEB9Iv"
      },
      "outputs": [
        {
          "name": "stderr",
          "output_type": "stream",
          "text": [
            "c:\\Users\\Kala\\Desktop\\SEM 8 lab\\nlp_lab\\nlplab_env\\lib\\site-packages\\tqdm\\auto.py:22: TqdmWarning: IProgress not found. Please update jupyter and ipywidgets. See https://ipywidgets.readthedocs.io/en/stable/user_install.html\n",
            "  from .autonotebook import tqdm as notebook_tqdm\n"
          ]
        }
      ],
      "source": [
        "from transformers import MBartForConditionalGeneration, MBart50TokenizerFast"
      ]
    },
    {
      "cell_type": "code",
      "execution_count": 4,
      "metadata": {
        "id": "U9DpzyKyCBKp"
      },
      "outputs": [],
      "source": [
        "article_en = \"Hi. My name is Kishore Kumar. I am studying at Coimbatore Institute of Technology.\""
      ]
    },
    {
      "cell_type": "code",
      "execution_count": 1,
      "metadata": {
        "id": "Y8bWP1vECSoy"
      },
      "outputs": [],
      "source": [
        "# model = MBartForConditionalGeneration.from_pretrained(\"facebook/mbart-large-50-one-to-many-mmt\")"
      ]
    },
    {
      "cell_type": "code",
      "execution_count": null,
      "metadata": {
        "id": "HSClKLVvDgNi"
      },
      "outputs": [],
      "source": [
        "tokenizer = MBart50TokenizerFast.from_pretrained(\"facebook/mbart-large-50-one-to-many-mmt\", src_lang=\"en_XX\")"
      ]
    },
    {
      "cell_type": "code",
      "execution_count": null,
      "metadata": {
        "id": "97Ye3aCNDs8q"
      },
      "outputs": [],
      "source": [
        "model_inputs = tokenizer(article_en, return_tensors=\"pt\")"
      ]
    },
    {
      "cell_type": "code",
      "execution_count": null,
      "metadata": {
        "id": "0BC5xrWtFvSW"
      },
      "outputs": [],
      "source": [
        "generated_tokens = model.generate(\n",
        "    **model_inputs,\n",
        "    forced_bos_token_id = tokenizer.lang_code_to_id[\"ta_IN\"],\n",
        "    max_new_tokens = 500\n",
        ")"
      ]
    },
    {
      "cell_type": "code",
      "execution_count": null,
      "metadata": {
        "colab": {
          "base_uri": "https://localhost:8080/"
        },
        "id": "NasibCmyIBnq",
        "outputId": "4fc082ab-fd0a-40dc-a175-ab2010def558"
      },
      "outputs": [
        {
          "data": {
            "text/plain": [
              "['எனது பெயர் கிஷோர் குமார். கோயம்புத்தூர் தொழில்நுட்பக் கழகத்தில் நான் படித்திருக்கிறேன்.']"
            ]
          },
          "execution_count": 18,
          "metadata": {},
          "output_type": "execute_result"
        }
      ],
      "source": [
        "tokenizer.batch_decode(generated_tokens, skip_special_tokens=True)"
      ]
    }
  ],
  "metadata": {
    "accelerator": "GPU",
    "colab": {
      "provenance": []
    },
    "gpuClass": "standard",
    "kernelspec": {
      "display_name": "Python 3",
      "name": "python3"
    },
    "language_info": {
      "codemirror_mode": {
        "name": "ipython",
        "version": 3
      },
      "file_extension": ".py",
      "mimetype": "text/x-python",
      "name": "python",
      "nbconvert_exporter": "python",
      "pygments_lexer": "ipython3",
      "version": "3.10.11"
    }
  },
  "nbformat": 4,
  "nbformat_minor": 0
}
