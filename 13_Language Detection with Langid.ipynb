{
 "cells": [
  {
   "cell_type": "markdown",
   "metadata": {},
   "source": [
    "\"Language Detection with Langid in Python\"\n",
    "\n",
    "This notebook presents a Python program that utilizes the Langid library to detect and specify the language of text samples for any five languages. The implementation showcases the effectiveness of Langid in automatically identifying the language of given text inputs, making it a valuable tool for multilingual text processing and analysis. The program provides a practical demonstration of language detection capabilities, offering insights for applications in diverse linguistic contexts."
   ]
  },
  {
   "cell_type": "code",
   "execution_count": 1,
   "metadata": {},
   "outputs": [],
   "source": [
    "import langid"
   ]
  },
  {
   "cell_type": "code",
   "execution_count": 2,
   "metadata": {},
   "outputs": [],
   "source": [
    "texts = [\"Hi my name is Kishore\",\n",
    "\"hola mi nombre es kishore\",\n",
    "\"வணக்கம் என் பெயர் கிஷோர்\",\n",
    "\"Salut, je m'appelle kishore\",\n",
    "\"Hallo, mein Name ist Kishore\"]"
   ]
  },
  {
   "cell_type": "code",
   "execution_count": 3,
   "metadata": {},
   "outputs": [],
   "source": [
    "def identify_language(text:str) -> str:\n",
    "    language,confidence = langid.classify(text)\n",
    "    return language"
   ]
  },
  {
   "cell_type": "code",
   "execution_count": 4,
   "metadata": {},
   "outputs": [],
   "source": [
    "lang_dict = {\"en\":\"English\",\n",
    "\"es\":\"Spanish\",\n",
    "\"ta\":\"Tamil\",\n",
    "\"fr\":\"French\",\n",
    "\"de\":\"German\"}"
   ]
  },
  {
   "cell_type": "code",
   "execution_count": 5,
   "metadata": {},
   "outputs": [
    {
     "name": "stdout",
     "output_type": "stream",
     "text": [
      "The text: 'Hi my name is Kishore' is in English Language\n",
      "The text: 'hola mi nombre es kishore' is in Spanish Language\n",
      "The text: 'வணக்கம் என் பெயர் கிஷோர்' is in Tamil Language\n",
      "The text: 'Salut, je m'appelle kishore' is in French Language\n",
      "The text: 'Hallo, mein Name ist Kishore' is in German Language\n"
     ]
    }
   ],
   "source": [
    "for text in texts:\n",
    "    lang_code,_ = langid.classify(text)\n",
    "    print(f\"The text: '{text}' is in {lang_dict[lang_code]} Language\")"
   ]
  },
  {
   "cell_type": "code",
   "execution_count": null,
   "metadata": {},
   "outputs": [],
   "source": []
  }
 ],
 "metadata": {
  "kernelspec": {
   "display_name": "base",
   "language": "python",
   "name": "python3"
  },
  "language_info": {
   "codemirror_mode": {
    "name": "ipython",
    "version": 3
   },
   "file_extension": ".py",
   "mimetype": "text/x-python",
   "name": "python",
   "nbconvert_exporter": "python",
   "pygments_lexer": "ipython3",
   "version": "3.10.10"
  },
  "orig_nbformat": 4,
  "vscode": {
   "interpreter": {
    "hash": "526741b084ed4f25519e824e7aa0ab7ce2f19623805d4b36812ace3275ecfd4c"
   }
  }
 },
 "nbformat": 4,
 "nbformat_minor": 2
}
