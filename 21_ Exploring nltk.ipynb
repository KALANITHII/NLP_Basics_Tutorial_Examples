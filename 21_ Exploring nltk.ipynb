{
  "cells": [
    {
      "cell_type": "code",
      "execution_count": 4,
      "metadata": {
        "colab": {
          "base_uri": "https://localhost:8080/"
        },
        "id": "_vrIanBxAKOk",
        "outputId": "aacf9916-93e5-4d4f-8660-7be690ad95b1"
      },
      "outputs": [
        {
          "name": "stderr",
          "output_type": "stream",
          "text": [
            "[nltk_data] Error loading punkt: <urlopen error [WinError 10060] A\n",
            "[nltk_data]     connection attempt failed because the connected party\n",
            "[nltk_data]     did not properly respond after a period of time, or\n",
            "[nltk_data]     established connection failed because connected host\n",
            "[nltk_data]     has failed to respond>\n"
          ]
        }
      ],
      "source": [
        "import nltk\n",
        "from nltk.tokenize import word_tokenize\n",
        "\n",
        "# Download required resources\n",
        "nltk.download('punkt')\n",
        "nltk.download('averaged_perceptron_tagger')\n",
        "nltk.download('maxent_ne_chunker')\n",
        "nltk.download('words')\n",
        "nltk.download('universal_tagset')"
      ]
    },
    {
      "cell_type": "code",
      "execution_count": 2,
      "metadata": {
        "colab": {
          "base_uri": "https://localhost:8080/"
        },
        "id": "T3w51MGu_yD2",
        "outputId": "b89d0172-e89f-4324-b21f-27ccb88ef153"
      },
      "outputs": [
        {
          "name": "stdout",
          "output_type": "stream",
          "text": [
            "[('John', 'NNP'), ('Smith', 'NNP'), ('is', 'VBZ'), ('a', 'DT'), ('software', 'NN'), ('engineer', 'NN'), ('at', 'IN'), ('Google', 'NNP'), ('in', 'IN'), ('California', 'NNP'), ('.', '.')]\n"
          ]
        }
      ],
      "source": [
        "sentence = \"John Smith is a software engineer at Google in California.\"\n",
        "words = word_tokenize(sentence)\n",
        "pos_tags = nltk.pos_tag(words)\n",
        "print(pos_tags)"
      ]
    },
    {
      "cell_type": "code",
      "execution_count": 1,
      "metadata": {
        "colab": {
          "base_uri": "https://localhost:8080/"
        },
        "id": "IiPxuXKvBHEj",
        "outputId": "017985dd-83a8-4e82-e275-c29e53022f21"
      },
      "outputs": [],
      "source": [
        "ner_tags = nltk.ne_chunk(pos_tags)\n",
        "print(ner_tags)"
      ]
    },
    {
      "cell_type": "code",
      "execution_count": null,
      "metadata": {},
      "outputs": [],
      "source": []
    }
  ],
  "metadata": {
    "colab": {
      "provenance": []
    },
    "kernelspec": {
      "display_name": "Python 3",
      "name": "python3"
    },
    "language_info": {
      "codemirror_mode": {
        "name": "ipython",
        "version": 3
      },
      "file_extension": ".py",
      "mimetype": "text/x-python",
      "name": "python",
      "nbconvert_exporter": "python",
      "pygments_lexer": "ipython3",
      "version": "3.10.11"
    }
  },
  "nbformat": 4,
  "nbformat_minor": 0
}
